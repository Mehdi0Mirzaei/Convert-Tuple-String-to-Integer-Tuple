{
 "cells": [
  {
   "cell_type": "code",
   "execution_count": 39,
   "id": "8a3a01d6",
   "metadata": {},
   "outputs": [
    {
     "name": "stdout",
     "output_type": "stream",
     "text": [
      "The original string is : (7, 8, 9)\n",
      "The tuple after conversion is : (7, 8, 9)\n"
     ]
    }
   ],
   "source": [
    "# initializing string \n",
    "test_str = \"(7, 8, 9)\" \n",
    " \n",
    "# printing original string \n",
    "print(\"The original string is : \" + test_str)\n",
    " \n",
    "# Convert Tuple String to Integer Tuple\n",
    "# Using tuple() + int() + replace() + split()\n",
    "res = tuple(int(num) for num in test_str.replace('(', '').replace(')', '').replace('...', '').split(', '))\n",
    " \n",
    "# printing result \n",
    "print(\"The tuple after conversion is : \" + str(res)) "
   ]
  },
  {
   "cell_type": "code",
   "execution_count": 40,
   "id": "d9c69b9b",
   "metadata": {},
   "outputs": [
    {
     "name": "stdout",
     "output_type": "stream",
     "text": [
      "The original string is : (7, 8, 9)\n",
      "The tuple after conversion is : (7, 8, 9)\n"
     ]
    }
   ],
   "source": [
    "# initializing string \n",
    "test_str = \"(7, 8, 9)\" \n",
    " \n",
    "# printing original string \n",
    "print(\"The original string is : \" + test_str)\n",
    " \n",
    "# Convert Tuple String to Integer Tuple\n",
    "# Using eval()\n",
    "res = eval(test_str)\n",
    " \n",
    "# printing result \n",
    "print(\"The tuple after conversion is : \" + str(res)) \n"
   ]
  },
  {
   "cell_type": "code",
   "execution_count": 41,
   "id": "4a854819",
   "metadata": {},
   "outputs": [
    {
     "name": "stdout",
     "output_type": "stream",
     "text": [
      "Original tuple is : ('1', '4', '3', '6', '7')\n",
      "Modified tuple is : (1, 4, 3, 6, 7)\n"
     ]
    }
   ],
   "source": [
    "test_tuple = ('1', '4', '3', '6', '7')\n",
    "   \n",
    "# Printing original tuple\n",
    "print (\"Original tuple is : \" + str(test_tuple))\n",
    "   \n",
    "# using map() to\n",
    "# perform conversion\n",
    "test_tuple = tuple(map(int, test_tuple))\n",
    "       \n",
    "   # Printing modified tuple \n",
    "print (\"Modified tuple is : \" + str(test_tuple))\n"
   ]
  },
  {
   "cell_type": "code",
   "execution_count": 42,
   "id": "800ae615",
   "metadata": {},
   "outputs": [
    {
     "name": "stdout",
     "output_type": "stream",
     "text": [
      "(1, 4, 3, 6, 7)\n"
     ]
    }
   ],
   "source": [
    "tuple1 = ('1', '4', '3', '6', '7')\n",
    "x=[int(i) for i in tuple1] \n",
    "print(tuple(x))"
   ]
  },
  {
   "cell_type": "code",
   "execution_count": 43,
   "id": "1b3e9581",
   "metadata": {},
   "outputs": [
    {
     "name": "stdout",
     "output_type": "stream",
     "text": [
      "(1, 4, 3, 6, 7)\n"
     ]
    }
   ],
   "source": [
    "tuple1 = ('1', '4', '3', '6', '7')\n",
    "x=[int(i) for a,i in enumerate(tuple1)]\n",
    "print(tuple(x))"
   ]
  },
  {
   "cell_type": "code",
   "execution_count": 44,
   "id": "57c296c9",
   "metadata": {},
   "outputs": [
    {
     "name": "stdout",
     "output_type": "stream",
     "text": [
      "(1, 4, 3, 6, 7)\n"
     ]
    }
   ],
   "source": [
    "tuple1 = ('1', '4', '3', '6', '7')\n",
    "x=[int(j) for j in (tuple(filter(lambda i:(i),tuple1)))]\n",
    "print(tuple(x))"
   ]
  },
  {
   "cell_type": "code",
   "execution_count": 45,
   "id": "b254f1e2",
   "metadata": {},
   "outputs": [
    {
     "name": "stdout",
     "output_type": "stream",
     "text": [
      "(1, 2, 3, 4)\n"
     ]
    }
   ],
   "source": [
    "tuple_string = \"(1, 2, 3, 4)\"\n",
    " \n",
    "int_tuple = []\n",
    "for x in tuple_string[1:-1].split(\",\"):\n",
    "    int_tuple.append(int(x))\n",
    " \n",
    "int_tuple = tuple(int_tuple)\n",
    " \n",
    "print(int_tuple)"
   ]
  },
  {
   "cell_type": "code",
   "execution_count": 46,
   "id": "2c664148",
   "metadata": {},
   "outputs": [
    {
     "name": "stdout",
     "output_type": "stream",
     "text": [
      "The tuple after conversion is : (7, 8, 9)\n"
     ]
    }
   ],
   "source": [
    "test_str = \"(7, 8, 9)\"\n",
    "res = []\n",
    "temp = ''\n",
    "for char in test_str:\n",
    "    if char.isdigit():\n",
    "        temp += char\n",
    "    elif temp:\n",
    "        res.append(int(temp))\n",
    "        temp = ''\n",
    "if temp:\n",
    "    res.append(int(temp))\n",
    "res = tuple(res)\n",
    "print(\"The tuple after conversion is : \" + str(res))"
   ]
  },
  {
   "cell_type": "code",
   "execution_count": 47,
   "id": "9500e143",
   "metadata": {},
   "outputs": [
    {
     "name": "stdout",
     "output_type": "stream",
     "text": [
      "The tuple after conversion is : (7, 8, 9)\n"
     ]
    }
   ],
   "source": [
    "def str_to_tuple(test_str):\n",
    "    def helper(index, temp):\n",
    "        if index >= len(test_str):\n",
    "            if temp:\n",
    "                res.append(int(temp))\n",
    "            return tuple(res)\n",
    "        elif test_str[index].isdigit():\n",
    "            temp += test_str[index]\n",
    "            return helper(index + 1, temp)\n",
    "        elif temp:\n",
    "            res.append(int(temp))\n",
    "            temp = ''\n",
    "        return helper(index + 1, temp)\n",
    "     \n",
    "    res = []\n",
    "    return helper(0, '')\n",
    " \n",
    "test_str = \"(7, 8, 9)\"\n",
    "res = str_to_tuple(test_str)\n",
    "print(\"The tuple after conversion is : \" + str(res))"
   ]
  },
  {
   "cell_type": "code",
   "execution_count": 48,
   "id": "ebbf8d04",
   "metadata": {},
   "outputs": [
    {
     "name": "stdout",
     "output_type": "stream",
     "text": [
      "Original tuple is : ('1', '4', '3', '6', '7')\n",
      "Modified tuple is : (1, 4, 3, 6, 7)\n"
     ]
    }
   ],
   "source": [
    "import numpy as np\n",
    "  \n",
    "# initializing tuple string\n",
    "test_tuple = ('1', '4', '3', '6', '7')\n",
    "  \n",
    "# Printing original tuple\n",
    "print (\"Original tuple is : \" + str(test_tuple))\n",
    "   \n",
    "# using astype() method of numpy array to convert each string element to integer\n",
    "test_tuple = np.array(test_tuple).astype(int)\n",
    "  \n",
    "# converting numpy array to tuple\n",
    "test_tuple = tuple(test_tuple)\n",
    "  \n",
    "# Printing modified tuple \n",
    "print (\"Modified tuple is : \" + str(test_tuple))\n"
   ]
  },
  {
   "cell_type": "code",
   "execution_count": null,
   "id": "a637afcf",
   "metadata": {},
   "outputs": [],
   "source": []
  }
 ],
 "metadata": {
  "kernelspec": {
   "display_name": "Python 3 (ipykernel)",
   "language": "python",
   "name": "python3"
  },
  "language_info": {
   "codemirror_mode": {
    "name": "ipython",
    "version": 3
   },
   "file_extension": ".py",
   "mimetype": "text/x-python",
   "name": "python",
   "nbconvert_exporter": "python",
   "pygments_lexer": "ipython3",
   "version": "3.9.13"
  }
 },
 "nbformat": 4,
 "nbformat_minor": 5
}
